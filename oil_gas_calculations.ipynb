{
 "cells": [
  {
   "cell_type": "markdown",
   "metadata": {},
   "source": [
    "#### Data\n",
    "\n",
    "You will need the following data files in your directory: \n",
    "\n",
    "\n",
    "- [data/OIL_AND_GAS_LOCATIONS_SHP/Oil_and_Gas_Locations.shp](https://cogcc.state.co.us/documents/data/downloads/gis/metadata/Oil_and_Gas_Locations_Metadata.html)\n",
    "- [data/TANK_BATTERIES_SHP/Tank_Batteries.shp](https://cogcc.state.co.us/documents/data/downloads/gis/metadata/Tank_Batteries_Metadata.html)\n",
    "- [data/PITS_SHP/Pits.shp](https://cogcc.state.co.us/documents/data/downloads/gis/metadata/Pits_Metadata.html)\n",
    "- [data/tl_2019_08_tabblock10/tl_2019_08_tabblock10.shp](https://catalog.data.gov/dataset/tiger-line-shapefile-2019-2010-state-colorado-2010-census-block-state-based)\n",
    "- data/wells_with_distance_meters/wells_with_distance_meters.shp ([available in repo](https://github.com/karmijo/mapping-for-environmental-justice/tree/master/data))\n",
    "- data/tanks_with_distance_meters/tanks_with_distance_meters.shp ([available in repo](https://github.com/karmijo/mapping-for-environmental-justice/tree/master/data))\n",
    "- data/pits_with_distance_meters/pits_with_distance_meters.shp ([available in repo](https://github.com/karmijo/mapping-for-environmental-justice/tree/master/data))\n",
    "- [data/Colorado_Census_Tract_Boundaries-shp/Colorado_Census_Tract_Boundaries.shp](https://data-cdphe.opendata.arcgis.com/datasets/a9f5b1a67bd74b2fa22279d141625335_3/data)\n",
    "- ['data/EJSCREEN_2019_USPR.csv](ftp://newftp.epa.gov/EJSCREEN/2019/)\n",
    "- data/dieselpmexposure.csv ([available in repo](https://github.com/karmijo/mapping-for-environmental-justice/tree/master/data))\n",
    "- [data/nata2014v2_national_resphi_by_tract_poll.xlsx](https://www.epa.gov/sites/production/files/2018-08/nata2014v2_national_resphi_by_tract_poll.xlsx)\n",
    "- [data/2012thru2016-140-csv/2012thru2016-140-csv/140/Table8.csv](https://www.huduser.gov/portal/datasets/cp.html)\n",
    "- [data/Asthma_Prevalence_in_Adults_-_CDPHE_Community_Level_Estimates__Census_Tracts_.csv](https://data-cdphe.opendata.arcgis.com/datasets/asthma-prevalence-in-adults-cdphe-community-level-estimates-census-tracts)\n",
    "- [data/Heart_Disease_in_Adults_-_CDPHE_Community_Level_Estimates__Census_Tracts_.csv](https://data-cdphe.opendata.arcgis.com/datasets/heart-disease-in-adults-cdphe-community-level-estimates-census-tracts)\n",
    "- [data/Low_Weight_Birth_Rate__Census_Tracts_.csv](https://data-cdphe.opendata.arcgis.com/datasets/low-weight-birth-rate-census-tracts)\n",
    "\n",
    "\n",
    "\n",
    "\n",
    "\n",
    "\n"
   ]
  },
  {
   "cell_type": "markdown",
   "metadata": {},
   "source": [
    "#### Packages"
   ]
  },
  {
   "cell_type": "code",
   "execution_count": 2,
   "metadata": {},
   "outputs": [],
   "source": [
    "import geopandas as gpd\n",
    "import math\n",
    "import matplotlib.pyplot as plt\n",
    "import matplotlib\n",
    "import numpy as np\n",
    "import os\n",
    "import pandas as pd\n",
    "import pymysql\n",
    "import requests\n",
    "import sqlite3\n",
    "import zipfile\n",
    "from pandas.io import sql\n",
    "from sqlalchemy import create_engine"
   ]
  },
  {
   "cell_type": "markdown",
   "metadata": {},
   "source": [
    "### 2. Oil & Gas <a id='oil'></a>\n",
    "\n",
    "The Oil & Gas indicator represents oil and gas facilities that include wells, wastewater pits, and tanks of oil or other dangerous chemicals located near populated areas. Oil and gas operations have been linked to many health problems in nearby communities including headaches, nausea, cancer, asthma, and birth defects.\n",
    "\n",
    "The Oil & Gas indicator measures the count in each census tract of all oil and gas facilities, including wells, tanks, pits, within 1 kilometer of a populated census block, where each site is weighted by it’s distance to the nearest populated census block. Oil wells, tanks, and pits location data from 1999-2020 is sourced from the [Colorado Oil and Gas Conservation Commission](https://cogcc.state.co.us/data2.html#/downloads). The distancing weighting method is modelled after CalEnviroScreen’s method for distance weighting using the same following weights: 1 if the site is less than 250 meters from a populated census block, 0.5 if the site is 250-500 meters from a populated census block, 0.25 if the site is 500-750 meters from a populated census block, and 0.1 if the site is 750-1000 meters from a populated census block. All facilities further than 1,000 meters from any populated census blocks were excluded (CalEnviroScreen, 2017).\n",
    "\n",
    "- Data for the number of wells can be found [here](https://cogcc.state.co.us/documents/data/downloads/gis/metadata/Oil_and_Gas_Locations_Metadata.html) under \"Oil & Gas Locations (3.7 Mb)\".\n",
    "- Data for the number of pits can be found [here](https://cogcc.state.co.us/documents/data/downloads/gis/metadata/Pits_Metadata.html) under \"Pits (1 Mb)\".\n",
    "- Data for the number of tank batteries can be found [here](https://cogcc.state.co.us/documents/data/downloads/gis/metadata/Tank_Batteries_Metadata.html) under \"Tank Batteries (87 Kb)\".\n",
    "\n",
    "Note: The [state](https://cogcc.state.co.us/documents/about/COGIS_Help/Status_Codes.pdf) of the well (ex. not active anymore, just being drilled, etc.), where the older the well is the less harmful it is currently, is not currently incorporated in this analysis.\n",
    "\n",
    "Finally, this indicator is only calculated for the state of Colorado."
   ]
  },
  {
   "cell_type": "code",
   "execution_count": 3,
   "metadata": {},
   "outputs": [],
   "source": [
    "# Oil and gas facilities data: https://cogcc.state.co.us/documents/data/downloads/gis/metadata/Oil_and_Gas_Locations_Metadata.html\n",
    "oil_gas = gpd.read_file(\"data/OIL_AND_GAS_LOCATIONS_SHP/Oil_and_Gas_Locations.shp\")"
   ]
  },
  {
   "cell_type": "code",
   "execution_count": 5,
   "metadata": {},
   "outputs": [],
   "source": [
    "# Tank battery data: https://cogcc.state.co.us/documents/data/downloads/gis/metadata/Tank_Batteries_Metadata.html\n",
    "# Tank Battery is a device used to store crude oil which is produced from a well.\n",
    "tank_batteries = gpd.read_file(\"data/TANK_BATTERIES_SHP/Tank_Batteries.shp\")"
   ]
  },
  {
   "cell_type": "code",
   "execution_count": 6,
   "metadata": {},
   "outputs": [],
   "source": [
    "# Oil pits data: https://cogcc.state.co.us/documents/data/downloads/gis/metadata/Pits_Metadata.html\n",
    "pits = gpd.read_file(\"data/PITS_SHP/Pits.shp\")"
   ]
  },
  {
   "cell_type": "code",
   "execution_count": 7,
   "metadata": {},
   "outputs": [],
   "source": [
    "# Create empty list for non-populated blocks, which will be filtered by GEOID to get unique codes\n",
    "nonpop_blocks = []\n",
    "\n",
    "# Get all county codes in Colorado: https://simple.wikipedia.org/wiki/List_of_counties_in_Colorado\n",
    "# 001 - 125 by odd nums\n",
    "counties = list(map(str, np.arange(1, 127, 2)))\n",
    "counties = list(map(lambda x: str.zfill(x, 3), counties))\n",
    "\n",
    "# Get population data using the Census Decennial Summary File 1 (SF1) from 2010 because it goes down to block level\n",
    "# ACS5 has more recent population data from 2018, but only goes down to block group level\n",
    "# Find Decennial SF1 in 2010 at https://api.census.gov/data.html \n",
    "# Colorado is state code 08\n",
    "# Must use for loop over all counties because api doesn't allow iteration over all blocks at once \n",
    "for county_code in counties: \n",
    "    url = \"https://api.census.gov/data/2010/dec/sf1?get=NAME,group(P1)&for=block:*&in=state:08%county:\" + county_code\n",
    "    r = requests.get(url)\n",
    "\n",
    "    r.raise_for_status()\n",
    "    \n",
    "    data = r.json()\n",
    "\n",
    "    blocks = pd.DataFrame(data)\n",
    "    blocks.columns = blocks.iloc[0]\n",
    "    blocks = blocks.iloc[1:]\n",
    "\n",
    "    # Convert total population data to integers\n",
    "    # P001001\tTotal\tTOTAL POPULATION\n",
    "    blocks['P001001'] = blocks['P001001'].apply(int)\n",
    "    \n",
    "    # Add block geoids where total population is 0 to the nonpopulated list\n",
    "    nonpop_blocks.extend(blocks[blocks['P001001'] == 0]['GEO_ID'].values.tolist())\n",
    "\n",
    "# Get rid of first '1000000US' of strings in geoid\n",
    "nonpop_blocks = pd.Series(nonpop_blocks).apply(lambda x: x[9:])"
   ]
  },
  {
   "cell_type": "code",
   "execution_count": 8,
   "metadata": {},
   "outputs": [],
   "source": [
    "# Read in Colorado census block shapes data\n",
    "# Data found at https://catalog.data.gov/dataset/tiger-line-shapefile-2019-2010-state-colorado-2010-census-block-state-based\n",
    "block_shapes = gpd.read_file(\"data/tl_2019_08_tabblock10/tl_2019_08_tabblock10.shp\")\n",
    "\n",
    "# Filter out blocks with no population\n",
    "block_shapes_pop = block_shapes[~block_shapes['GEOID10'].isin(nonpop_blocks)]"
   ]
  },
  {
   "cell_type": "code",
   "execution_count": 9,
   "metadata": {},
   "outputs": [],
   "source": [
    "# Read in data containing distances to closest populated block for each well, tank, and pit, calculated using QGIS\n",
    "wells_dists = gpd.read_file(\"data/wells_with_distance_meters/wells_with_distance_meters.shp\")\n",
    "tanks_dists = gpd.read_file(\"data/tanks_with_distance_meters/tanks_with_distance_meters.shp\")\n",
    "pits_dists = gpd.read_file(\"data/pits_with_distance_meters/pits_with_distance_meters.shp\")\n",
    "\n",
    "# Filter out sites further than 1 kilometer, or 1000 meters, from a populated block\n",
    "wells_within_onekm = wells_dists[wells_dists['distance'] <= 1000]\n",
    "tanks_within_onekm = tanks_dists[tanks_dists['distance'] <= 1000]\n",
    "pits_within_onekm = pits_dists[pits_dists['distance'] <= 1000]"
   ]
  },
  {
   "cell_type": "code",
   "execution_count": 19,
   "metadata": {},
   "outputs": [],
   "source": [
    "# Create 1 km buffers around each census tract\n",
    "# To create a weighted aggregate of the oil sites in each buffered census tract\n",
    "# Using CO census tract shapefile from CDPHE here: https://data- cdphe.opendata.arcgis.com/datasets/a9f5b1a67bd74b2fa22279d141625335_3/data\n",
    "tracts = gpd.read_file(\"data/Colorado_Census_Tract_Boundaries-shp/Colorado_Census_Tract_Boundaries.shp\")\n",
    "tracts = tracts.drop(columns = [\"OBJECTID\"])"
   ]
  },
  {
   "cell_type": "code",
   "execution_count": 3,
   "metadata": {},
   "outputs": [],
   "source": [
    "# Convert buffer distance from kilometers to degrees\n",
    "lat_radians = 39.7392 * np.pi/180\n",
    "buff_dist = 1/(111.32*np.cos(lat_radians))\n",
    "\n",
    "# Add buffers to census tracts\n",
    "tracts_buffered = tracts.apply(lambda x: x.iloc[-1].buffer(buff_dist), axis = 1) # axis = 1 to apply to each row\n",
    "tracts_buffered_df = tracts\n",
    "tracts_buffered_df['geometry'] = tracts_buffered\n",
    "\n",
    "# List all instances of wells within 1km of a populated block with the corresponding buffered census tract(s) they intersect with\n",
    "# Before doing spatial join of the buffered tracts and wells within one km\n",
    "# Convert crs to be same\n",
    "tracts_buffered_df = tracts_buffered_df.to_crs(wells_within_onekm.crs)\n",
    "\n",
    "# Spacial join points to polygons of the buffered tracts and wells within one km\n",
    "wells_joined = gpd.sjoin(tracts_buffered_df, wells_within_onekm, op = 'intersects')\n",
    "\n",
    "# Weight each site based on CalEnviroscreen weights/distances method\n",
    "# 1 : <=250m\n",
    "# 0.5: <=500m\n",
    "# 0.25: <=750m\n",
    "# 0.1: <=1000m\n",
    "# Make a column to turn into weights\n",
    "wells_joined['weights'] = wells_joined['distance']\n",
    "\n",
    "# Assign weights\n",
    "wells_joined['weights'] = np.where(wells_joined['distance'] <= 250, 1, \n",
    "                                     np.where(wells_joined['distance'] <= 500, 0.5,\n",
    "                                     np.where(wells_joined['distance'] <= 750, 0.25,\n",
    "                                     np.where(wells_joined['distance'] <= 1000, 0.1,0))))\n",
    "\n",
    "# Sum weights for each census tract\n",
    "wells_agg = wells_joined.groupby('FIPS').sum()[['weights']].reset_index().rename(columns = {\n",
    "    'FIPS':'FIPS_tract_id', \n",
    "    'weights':'wells_agg'\n",
    "})\n",
    "\n",
    "# Repeat for tanks\n",
    "# List all instances of tanks within 1km of a populated block with the corresponding buffered census tract(s) they intersect with\n",
    "# Using a spatial join points to polygons\n",
    "tanks_joined = gpd.sjoin(tracts_buffered_df, tanks_within_onekm, op = 'intersects') \n",
    "\n",
    "\n",
    "# Make a column to turn into weights\n",
    "tanks_joined['weights'] = tanks_joined['distance']\n",
    "\n",
    "#assign weights\n",
    "tanks_joined['weights'] = np.where(tanks_joined['distance'] <= 250, 1, \n",
    "                                     np.where(tanks_joined['distance'] <= 500, 0.5,\n",
    "                                     np.where(tanks_joined['distance'] <= 750, 0.25,\n",
    "                                     np.where(tanks_joined['distance'] <= 1000, 0.1,0))))\n",
    "\n",
    "# Sum weights for each census tract\n",
    "tanks_agg = tanks_joined.groupby('FIPS').sum()[['weights']].reset_index().rename(columns = {\n",
    "    'FIPS':'FIPS_tract_id', \n",
    "    'weights':'tanks_agg'\n",
    "})\n",
    "\n",
    "# Repeat for pits\n",
    "# List all instances of pits within 1km of a populated block with the corresponding buffered census tract(s) they intersect with\n",
    "# Using a spatial join points to polygons\n",
    "pits_joined = gpd.sjoin(tracts_buffered_df, pits_within_onekm, op = 'intersects')\n",
    "\n",
    "\n",
    "# Make a column to turn into weights\n",
    "pits_joined['weights'] = pits_joined['distance']\n",
    "\n",
    "# Assign weights\n",
    "pits_joined['weights'] = np.where(pits_joined['distance'] <= 250, 1, \n",
    "                                     np.where(pits_joined['distance'] <= 500, 0.5,\n",
    "                                     np.where(pits_joined['distance'] <= 750, 0.25,\n",
    "                                     np.where(pits_joined['distance'] <= 1000, 0.1,0))))\n",
    "\n",
    "# Sum weights for each census tract\n",
    "pits_agg = pits_joined.groupby('FIPS').sum()[['weights']].reset_index().rename(columns = {\n",
    "    'FIPS':'FIPS_tract_id', \n",
    "    'weights':'pits_agg'\n",
    "})\n",
    "\n",
    "# Merge all wells, pits, and tanks weighted sums for each census tract\n",
    "merged_oil = tanks_agg.merge(wells_agg, \n",
    "                             on = \"FIPS_tract_id\", \n",
    "                             how = 'outer').merge(pits_agg, \n",
    "                                                  on = 'FIPS_tract_id', \n",
    "                                                  how = 'outer')\n",
    "oil_gas = merged_oil[['tanks_agg', 'wells_agg', 'pits_agg']].sum(axis=1)\n",
    "oil_gas = oil_gas.to_frame().rename(columns = { 0 : 'oil_score'})\n",
    "oil_gas[\"FIPS_tract_id\"] = merged_oil[\"FIPS_tract_id\"]\n",
    "\n",
    "# Merge in census tracts with an oil score of 0\n",
    "block_shapes['FIPS_tract_id'] = block_shapes['STATEFP10'] + block_shapes['COUNTYFP10'] + block_shapes['TRACTCE10']\n",
    "all_tracts = block_shapes['FIPS_tract_id'].to_frame().drop_duplicates()\n",
    "oil_gas = oil_gas.merge(all_tracts, on = \"FIPS_tract_id\", how = 'outer', validate = 'one_to_one')\n",
    "oil_gas.loc[oil_gas['oil_score'].isnull(), ['oil_score']] = 0\n",
    "            \n",
    "# Calculate percentile rank for census tracts with a score above 0, set percentile rank to 0 if score is 0\n",
    "oil_gas['oil_rank'] = oil_gas[oil_gas['oil_score'] != 0]['oil_score'].rank( \n",
    "    na_option = 'keep', \n",
    "    pct = True)*100      \n",
    "oil_gas.loc[oil_gas['oil_score'] == 0, 'oil_rank'] = 0\n",
    "            \n",
    "# Add in Colorado state identifier\n",
    "oil_gas['state'] = '08'"
   ]
  },
  {
   "cell_type": "markdown",
   "metadata": {},
   "source": [
    "### Generalizing distance calculation between tract and oil/gas equipment"
   ]
  },
  {
   "cell_type": "code",
   "execution_count": 28,
   "metadata": {},
   "outputs": [],
   "source": [
    "#Quick and dirty extraction of centroid of census tracts\n",
    "tracts['long'] = tracts['geometry'].apply(lambda lamb: lamb.centroid.x)\n",
    "tracts['lat'] = tracts['geometry'].apply(lambda lamb: lamb.centroid.y)"
   ]
  },
  {
   "cell_type": "code",
   "execution_count": 42,
   "metadata": {},
   "outputs": [],
   "source": [
    "#Separating lats/lons for tracts and og equipment\n",
    "tract_lat = np.array(tracts['lat'])\n",
    "tract_lon = np.array(tracts['long'])\n",
    "og_lat = np.array(oil_gas['lat'])\n",
    "og_lon = np.array(oil_gas['long'])"
   ]
  },
  {
   "cell_type": "code",
   "execution_count": 67,
   "metadata": {},
   "outputs": [
    {
     "name": "stdout",
     "output_type": "stream",
     "text": [
      "[[7 8]\n",
      " [7 8]\n",
      " [7 8]\n",
      " [7 8]\n",
      " [7 8]]\n",
      "[[1 1]\n",
      " [2 2]\n",
      " [3 3]\n",
      " [4 4]\n",
      " [5 5]]\n"
     ]
    }
   ],
   "source": [
    "#Multi-step process to avoid populating huge matrix with distance calculations:\n",
    "#(breaking down [(lat_a - lat_b)^2 + (lon_a - lon_b)^2]^.5 )\n",
    "#0. Create tiled matrices to enable matrix operations\n",
    "#1. Subtract and square latitudes\n",
    "#2. Subtract and square longitudes\n",
    "#3. Sum the differences and take the square root\n",
    "\n",
    "#Tiling example\n",
    "x = np.array([1,2,3,4,5])\n",
    "y = np.array([7,8])\n",
    "print(np.tile(y, (len(x),1)))\n",
    "print(np.tile(x, (len(y),1)).T)"
   ]
  },
  {
   "cell_type": "code",
   "execution_count": 68,
   "metadata": {},
   "outputs": [],
   "source": [
    "#Creating tiled latitude matrices for tracts and og latitudes\n",
    "tract_lat_tile = np.tile(tract_lat, (len(og_lat),1))\n",
    "og_lat_tile = np.tile(og_lat, (len(tract_lat),1)).T\n",
    "assert tract_lat_tile.shape == og_lat_tile.shape\n",
    "\n",
    "#Creating tiled latitude matrices for tracts and og latitudes\n",
    "tract_lon_tile = np.tile(tract_lon, (len(og_lon),1))\n",
    "og_lon_tile = np.tile(og_lon, (len(tract_lon),1)).T\n",
    "assert tract_lon_tile.shape == og_lon_tile.shape"
   ]
  },
  {
   "cell_type": "code",
   "execution_count": 69,
   "metadata": {},
   "outputs": [],
   "source": [
    "#Subtract and square lats and lons\n",
    "squared_lat_diffs = np.square(np.subtract(tract_lat_tile, og_lat_tile))\n",
    "squared_lon_diffs = np.square(np.subtract(tract_lon_tile, og_lon_tile))\n",
    "assert squared_lat_diffs.shape == squared_lon_diffs.shape"
   ]
  },
  {
   "cell_type": "code",
   "execution_count": 76,
   "metadata": {},
   "outputs": [],
   "source": [
    "#Sum and square-root the differences\n",
    "#Now we can sort / further manipulate the distance matrix to get the products we need!\n",
    "dist_matrix = np.sqrt(np.add(squared_lat_diffs, squared_lon_diffs))"
   ]
  },
  {
   "cell_type": "code",
   "execution_count": 80,
   "metadata": {},
   "outputs": [
    {
     "data": {
      "text/plain": [
       "(84208, 1249)"
      ]
     },
     "execution_count": 80,
     "metadata": {},
     "output_type": "execute_result"
    }
   ],
   "source": [
    "dist_matrix.shape"
   ]
  },
  {
   "cell_type": "code",
   "execution_count": 81,
   "metadata": {},
   "outputs": [
    {
     "data": {
      "text/plain": [
       "array([[2.43692983, 3.01799576, 1.34501815, ..., 1.04445702, 1.00834491,\n",
       "        1.00116026],\n",
       "       [2.72059593, 0.9729695 , 2.66846459, ..., 3.30223477, 3.31574877,\n",
       "        3.31817327],\n",
       "       [1.9220457 , 2.56593477, 0.97645704, ..., 0.54714349, 0.51005531,\n",
       "        0.50256282],\n",
       "       ...,\n",
       "       [2.20901027, 2.59601267, 0.91649048, ..., 0.87025833, 0.8338034 ,\n",
       "        0.82638846],\n",
       "       [2.61579749, 3.27160938, 1.59831331, ..., 1.2275286 , 1.19320531,\n",
       "        1.18644889],\n",
       "       [2.60402595, 3.26801655, 1.59645974, ..., 1.21632676, 1.18211188,\n",
       "        1.17538096]])"
      ]
     },
     "execution_count": 81,
     "metadata": {},
     "output_type": "execute_result"
    }
   ],
   "source": [
    "dist_matrix"
   ]
  },
  {
   "cell_type": "code",
   "execution_count": null,
   "metadata": {},
   "outputs": [],
   "source": []
  }
 ],
 "metadata": {
  "kernelspec": {
   "display_name": "Python 3",
   "language": "python",
   "name": "python3"
  },
  "language_info": {
   "codemirror_mode": {
    "name": "ipython",
    "version": 3
   },
   "file_extension": ".py",
   "mimetype": "text/x-python",
   "name": "python",
   "nbconvert_exporter": "python",
   "pygments_lexer": "ipython3",
   "version": "3.7.3"
  }
 },
 "nbformat": 4,
 "nbformat_minor": 4
}
